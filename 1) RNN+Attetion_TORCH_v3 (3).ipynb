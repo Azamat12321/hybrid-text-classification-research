{
 "cells": [
  {
   "cell_type": "markdown",
   "metadata": {},
   "source": [
    "# https://www.kaggle.com/code/iogbonna/classification-of-ag-news-with-rnn-in-pytorch\n",
    "# https://www.kaggle.com/datasets/amananandrai/ag-news-classification-dataset/code?datasetId=612351&sortBy=voteCount&searchQuery=RNN\n",
    "# https://www.kaggle.com/code/nikenamelia/news-classification-rnn-cnn-eda-deep-cleansing#Model\n",
    "# https://www.kaggle.com/code/vineetvermaai/ag-news-classification-lstm-gru-accuracy-91-96#MODEL\n",
    "# https://www.kaggle.com/code/mohsinsial/ag-news-classifications#notebook-container\n",
    "#"
   ]
  },
  {
   "cell_type": "markdown",
   "metadata": {},
   "source": [
    "# 1. Библиотеки"
   ]
  },
  {
   "cell_type": "code",
   "execution_count": 2,
   "metadata": {},
   "outputs": [
    {
     "name": "stdout",
     "output_type": "stream",
     "text": [
      "Using device: cuda\n"
     ]
    }
   ],
   "source": [
    "import torch\n",
    "import torch.nn as nn\n",
    "import torch.optim as optim\n",
    "from torch.utils.data import DataLoader, Dataset\n",
    "import numpy as np\n",
    "import random\n",
    "import pandas as pd\n",
    "from sklearn.model_selection import train_test_split\n",
    "import re\n",
    "import string\n",
    "from nltk.corpus import stopwords \n",
    "from typing import List, Dict\n",
    "from tqdm import tqdm\n",
    "from torch import save\n",
    "from nltk.stem import PorterStemmer\n",
    "from nltk.tokenize import word_tokenize\n",
    "from collections import Counter\n",
    "from torch.nn.utils.rnn import pad_sequence\n",
    "from sklearn.metrics import classification_report\n",
    "import matplotlib.pyplot as plt\n",
    "\n",
    "# Проверка наличия GPU\n",
    "device = torch.device(\"cuda\" if torch.cuda.is_available() else \"cpu\")\n",
    "print(f\"Using device: {device}\")"
   ]
  },
  {
   "cell_type": "markdown",
   "metadata": {},
   "source": [
    "# 2. Чтение данных"
   ]
  },
  {
   "cell_type": "code",
   "execution_count": 3,
   "metadata": {},
   "outputs": [
    {
     "name": "stdout",
     "output_type": "stream",
     "text": [
      "<class 'pandas.core.frame.DataFrame'>\n",
      "RangeIndex: 120000 entries, 0 to 119999\n",
      "Data columns (total 3 columns):\n",
      " #   Column       Non-Null Count   Dtype \n",
      "---  ------       --------------   ----- \n",
      " 0   Class Index  120000 non-null  int64 \n",
      " 1   Title        120000 non-null  object\n",
      " 2   Description  120000 non-null  object\n",
      "dtypes: int64(1), object(2)\n",
      "memory usage: 2.7+ MB\n",
      "\n",
      "\n",
      "<class 'pandas.core.frame.DataFrame'>\n",
      "RangeIndex: 7600 entries, 0 to 7599\n",
      "Data columns (total 3 columns):\n",
      " #   Column       Non-Null Count  Dtype \n",
      "---  ------       --------------  ----- \n",
      " 0   Class Index  7600 non-null   int64 \n",
      " 1   Title        7600 non-null   object\n",
      " 2   Description  7600 non-null   object\n",
      "dtypes: int64(1), object(2)\n",
      "memory usage: 178.2+ KB\n"
     ]
    }
   ],
   "source": [
    "train = pd.read_csv(\"train.csv\", encoding = 'latin')\n",
    "test = pd.read_csv(\"test.csv\", encoding = \"latin\")\n",
    "\n",
    "colms = [\"Class Index\", \"Title\", \"Description\"]\n",
    "train.columns = colms\n",
    "test.columns = colms\n",
    "\n",
    "train.info()\n",
    "print(\"\\n\")\n",
    "test.info()\n",
    "\n",
    "\n",
    "classes = ['World', 'Sports', 'Business', 'Sci/Tech']"
   ]
  },
  {
   "cell_type": "code",
   "execution_count": 67,
   "metadata": {},
   "outputs": [
    {
     "data": {
      "text/html": [
       "<div>\n",
       "<style scoped>\n",
       "    .dataframe tbody tr th:only-of-type {\n",
       "        vertical-align: middle;\n",
       "    }\n",
       "\n",
       "    .dataframe tbody tr th {\n",
       "        vertical-align: top;\n",
       "    }\n",
       "\n",
       "    .dataframe thead th {\n",
       "        text-align: right;\n",
       "    }\n",
       "</style>\n",
       "<table border=\"1\" class=\"dataframe\">\n",
       "  <thead>\n",
       "    <tr style=\"text-align: right;\">\n",
       "      <th></th>\n",
       "      <th>Class Index</th>\n",
       "      <th>Title</th>\n",
       "      <th>Description</th>\n",
       "    </tr>\n",
       "  </thead>\n",
       "  <tbody>\n",
       "    <tr>\n",
       "      <th>0</th>\n",
       "      <td>3</td>\n",
       "      <td>Wall St. Bears Claw Back Into the Black (Reuters)</td>\n",
       "      <td>Reuters - Short-sellers, Wall Street's dwindli...</td>\n",
       "    </tr>\n",
       "    <tr>\n",
       "      <th>1</th>\n",
       "      <td>3</td>\n",
       "      <td>Carlyle Looks Toward Commercial Aerospace (Reu...</td>\n",
       "      <td>Reuters - Private investment firm Carlyle Grou...</td>\n",
       "    </tr>\n",
       "  </tbody>\n",
       "</table>\n",
       "</div>"
      ],
      "text/plain": [
       "   Class Index                                              Title  \\\n",
       "0            3  Wall St. Bears Claw Back Into the Black (Reuters)   \n",
       "1            3  Carlyle Looks Toward Commercial Aerospace (Reu...   \n",
       "\n",
       "                                         Description  \n",
       "0  Reuters - Short-sellers, Wall Street's dwindli...  \n",
       "1  Reuters - Private investment firm Carlyle Grou...  "
      ]
     },
     "execution_count": 67,
     "metadata": {},
     "output_type": "execute_result"
    }
   ],
   "source": [
    "train.head(2)"
   ]
  },
  {
   "cell_type": "code",
   "execution_count": 3,
   "metadata": {},
   "outputs": [
    {
     "data": {
      "text/plain": [
       "Class Index\n",
       "3    30000\n",
       "4    30000\n",
       "2    30000\n",
       "1    30000\n",
       "Name: count, dtype: int64"
      ]
     },
     "execution_count": 3,
     "metadata": {},
     "output_type": "execute_result"
    }
   ],
   "source": [
    "train[\"Class Index\"].value_counts()"
   ]
  },
  {
   "cell_type": "markdown",
   "metadata": {},
   "source": [
    "# 3. Предобработка"
   ]
  },
  {
   "cell_type": "code",
   "execution_count": 4,
   "metadata": {},
   "outputs": [],
   "source": [
    "train_df = train\n",
    "test_df = test"
   ]
  },
  {
   "cell_type": "code",
   "execution_count": 5,
   "metadata": {},
   "outputs": [
    {
     "data": {
      "text/html": [
       "<div>\n",
       "<style scoped>\n",
       "    .dataframe tbody tr th:only-of-type {\n",
       "        vertical-align: middle;\n",
       "    }\n",
       "\n",
       "    .dataframe tbody tr th {\n",
       "        vertical-align: top;\n",
       "    }\n",
       "\n",
       "    .dataframe thead th {\n",
       "        text-align: right;\n",
       "    }\n",
       "</style>\n",
       "<table border=\"1\" class=\"dataframe\">\n",
       "  <thead>\n",
       "    <tr style=\"text-align: right;\">\n",
       "      <th></th>\n",
       "      <th>Class Index</th>\n",
       "      <th>Title</th>\n",
       "      <th>Description</th>\n",
       "      <th>Text</th>\n",
       "    </tr>\n",
       "  </thead>\n",
       "  <tbody>\n",
       "    <tr>\n",
       "      <th>0</th>\n",
       "      <td>3</td>\n",
       "      <td>Wall St. Bears Claw Back Into the Black (Reuters)</td>\n",
       "      <td>Reuters - Short-sellers, Wall Street's dwindli...</td>\n",
       "      <td>Wall St. Bears Claw Back Into the Black (Reute...</td>\n",
       "    </tr>\n",
       "    <tr>\n",
       "      <th>1</th>\n",
       "      <td>3</td>\n",
       "      <td>Carlyle Looks Toward Commercial Aerospace (Reu...</td>\n",
       "      <td>Reuters - Private investment firm Carlyle Grou...</td>\n",
       "      <td>Carlyle Looks Toward Commercial Aerospace (Reu...</td>\n",
       "    </tr>\n",
       "    <tr>\n",
       "      <th>2</th>\n",
       "      <td>3</td>\n",
       "      <td>Oil and Economy Cloud Stocks' Outlook (Reuters)</td>\n",
       "      <td>Reuters - Soaring crude prices plus worries\\ab...</td>\n",
       "      <td>Oil and Economy Cloud Stocks' Outlook (Reuters...</td>\n",
       "    </tr>\n",
       "    <tr>\n",
       "      <th>3</th>\n",
       "      <td>3</td>\n",
       "      <td>Iraq Halts Oil Exports from Main Southern Pipe...</td>\n",
       "      <td>Reuters - Authorities have halted oil export\\f...</td>\n",
       "      <td>Iraq Halts Oil Exports from Main Southern Pipe...</td>\n",
       "    </tr>\n",
       "    <tr>\n",
       "      <th>4</th>\n",
       "      <td>3</td>\n",
       "      <td>Oil prices soar to all-time record, posing new...</td>\n",
       "      <td>AFP - Tearaway world oil prices, toppling reco...</td>\n",
       "      <td>Oil prices soar to all-time record, posing new...</td>\n",
       "    </tr>\n",
       "  </tbody>\n",
       "</table>\n",
       "</div>"
      ],
      "text/plain": [
       "   Class Index                                              Title  \\\n",
       "0            3  Wall St. Bears Claw Back Into the Black (Reuters)   \n",
       "1            3  Carlyle Looks Toward Commercial Aerospace (Reu...   \n",
       "2            3    Oil and Economy Cloud Stocks' Outlook (Reuters)   \n",
       "3            3  Iraq Halts Oil Exports from Main Southern Pipe...   \n",
       "4            3  Oil prices soar to all-time record, posing new...   \n",
       "\n",
       "                                         Description  \\\n",
       "0  Reuters - Short-sellers, Wall Street's dwindli...   \n",
       "1  Reuters - Private investment firm Carlyle Grou...   \n",
       "2  Reuters - Soaring crude prices plus worries\\ab...   \n",
       "3  Reuters - Authorities have halted oil export\\f...   \n",
       "4  AFP - Tearaway world oil prices, toppling reco...   \n",
       "\n",
       "                                                Text  \n",
       "0  Wall St. Bears Claw Back Into the Black (Reute...  \n",
       "1  Carlyle Looks Toward Commercial Aerospace (Reu...  \n",
       "2  Oil and Economy Cloud Stocks' Outlook (Reuters...  \n",
       "3  Iraq Halts Oil Exports from Main Southern Pipe...  \n",
       "4  Oil prices soar to all-time record, posing new...  "
      ]
     },
     "execution_count": 5,
     "metadata": {},
     "output_type": "execute_result"
    }
   ],
   "source": [
    "def combine_text(row):\n",
    "    return f\"{row['Title']} - {row['Description']}\"\n",
    "\n",
    "train_df['Text'] = train_df.apply(combine_text, axis=1)\n",
    "test_df['Text'] = test_df.apply(combine_text, axis=1)\n",
    "\n",
    "\n",
    "# train_df['Text'] = train_df[\"Description\"]\n",
    "# test_df['Text'] = test_df[\"Description\"]\n",
    "train_df.head(5)"
   ]
  },
  {
   "cell_type": "code",
   "execution_count": 6,
   "metadata": {},
   "outputs": [],
   "source": [
    "# Шаг 1: Очистка текста\n",
    "\n",
    "STOPWORDS = set(stopwords.words('english'))\n",
    "\n",
    "english_punctuations = string.punctuation\n",
    "punctuations_list = english_punctuations\n",
    "\n",
    "def clean_text(text):\n",
    "    \n",
    "    text =  re.sub(r'(.)\\1+', r'\\1', text)\n",
    "\n",
    "    text =  re.sub(r'@[^\\s]+', ' ', text)\n",
    "\n",
    "    text =  re.sub(r'((www\\.[^\\s]+)|(https?://[^\\s]+))',' ', text)\n",
    "\n",
    "    text =  re.sub(r'[0-9]+', '', text)\n",
    "\n",
    "    # Удаление HTML-тегов\n",
    "    text = re.sub(r'<.*?>', '', text)\n",
    "    # Удаление ссылок\n",
    "    text = re.sub(r'https?://\\S+|www\\.\\S+', '', text)\n",
    "\n",
    "    text = \" \".join([word for word in str(text).split() if word not in STOPWORDS])\n",
    "    \n",
    "    translator = str.maketrans('', '', punctuations_list)\n",
    "    text = text.translate(translator)\n",
    "    \n",
    "    return text\n",
    "\n",
    "def clean_text(text):\n",
    "    \n",
    "    # Удаление HTML-тегов\n",
    "    text = re.sub(r'<.*?>', '', text)\n",
    "    # Удаление ссылок\n",
    "    text = re.sub(r'https?://\\S+|www\\.\\S+', '', text)\n",
    "\n",
    "    \n",
    "    return text\n",
    "\n",
    "\n",
    "# Пример очистки текста\n",
    "train_df['Text'] = train_df['Text'].apply(clean_text)\n",
    "test_df['Text'] = test_df['Text'].apply(clean_text)"
   ]
  },
  {
   "cell_type": "code",
   "execution_count": 7,
   "metadata": {},
   "outputs": [],
   "source": [
    "class NewsDataset(Dataset):\n",
    "  def __init__(self,df):\n",
    "    self.n_samples = len(df)\n",
    "    self.dataframe = df\n",
    "\n",
    "  def __getitem__(self, index):\n",
    "    row = self.dataframe.iloc[index]\n",
    "    return row['Class Index'], row['Text']\n",
    "\n",
    "  def __len__(self):\n",
    "    return self.n_samples"
   ]
  },
  {
   "cell_type": "code",
   "execution_count": 8,
   "metadata": {},
   "outputs": [],
   "source": [
    "# now we convert the dataframe for the training and testing into datasets\n",
    "train_dataset = NewsDataset(train_df)\n",
    "test_dataset = NewsDataset(test_df)"
   ]
  },
  {
   "cell_type": "code",
   "execution_count": null,
   "metadata": {},
   "outputs": [
    {
     "name": "stdout",
     "output_type": "stream",
     "text": [
      "Collecting torchtext==0.5.0\n",
      "  Downloading torchtext-0.5.0-py3-none-any.whl (73 kB)\n",
      "     -------------------------------------- 73.2/73.2 kB 669.4 kB/s eta 0:00:00\n",
      "Requirement already satisfied: sentencepiece in s:\\python_vs\\datascience\\venv\\lib\\site-packages (from torchtext==0.5.0) (0.2.0)\n",
      "Requirement already satisfied: requests in s:\\python_vs\\datascience\\venv\\lib\\site-packages (from torchtext==0.5.0) (2.32.3)\n",
      "Requirement already satisfied: tqdm in s:\\python_vs\\datascience\\venv\\lib\\site-packages (from torchtext==0.5.0) (4.67.0)\n",
      "Requirement already satisfied: numpy in s:\\python_vs\\datascience\\venv\\lib\\site-packages (from torchtext==0.5.0) (1.26.4)\n",
      "Requirement already satisfied: six in s:\\python_vs\\datascience\\venv\\lib\\site-packages (from torchtext==0.5.0) (1.16.0)\n",
      "Requirement already satisfied: torch in s:\\python_vs\\datascience\\venv\\lib\\site-packages (from torchtext==0.5.0) (2.5.1+cu124)\n",
      "Requirement already satisfied: charset-normalizer<4,>=2 in s:\\python_vs\\datascience\\venv\\lib\\site-packages (from requests->torchtext==0.5.0) (3.4.0)\n",
      "Requirement already satisfied: certifi>=2017.4.17 in s:\\python_vs\\datascience\\venv\\lib\\site-packages (from requests->torchtext==0.5.0) (2024.8.30)\n",
      "Requirement already satisfied: idna<4,>=2.5 in s:\\python_vs\\datascience\\venv\\lib\\site-packages (from requests->torchtext==0.5.0) (3.10)\n",
      "Requirement already satisfied: urllib3<3,>=1.21.1 in s:\\python_vs\\datascience\\venv\\lib\\site-packages (from requests->torchtext==0.5.0) (2.2.3)\n",
      "Requirement already satisfied: jinja2 in s:\\python_vs\\datascience\\venv\\lib\\site-packages (from torch->torchtext==0.5.0) (3.1.4)\n",
      "Requirement already satisfied: networkx in s:\\python_vs\\datascience\\venv\\lib\\site-packages (from torch->torchtext==0.5.0) (3.4.2)\n",
      "Requirement already satisfied: typing-extensions>=4.8.0 in s:\\python_vs\\datascience\\venv\\lib\\site-packages (from torch->torchtext==0.5.0) (4.12.2)\n",
      "Requirement already satisfied: sympy==1.13.1 in s:\\python_vs\\datascience\\venv\\lib\\site-packages (from torch->torchtext==0.5.0) (1.13.1)\n",
      "Requirement already satisfied: filelock in s:\\python_vs\\datascience\\venv\\lib\\site-packages (from torch->torchtext==0.5.0) (3.16.1)\n",
      "Requirement already satisfied: fsspec in s:\\python_vs\\datascience\\venv\\lib\\site-packages (from torch->torchtext==0.5.0) (2024.9.0)\n",
      "Requirement already satisfied: mpmath<1.4,>=1.1.0 in s:\\python_vs\\datascience\\venv\\lib\\site-packages (from sympy==1.13.1->torch->torchtext==0.5.0) (1.3.0)\n",
      "Requirement already satisfied: colorama in s:\\python_vs\\datascience\\venv\\lib\\site-packages (from tqdm->torchtext==0.5.0) (0.4.6)\n",
      "Requirement already satisfied: MarkupSafe>=2.0 in s:\\python_vs\\datascience\\venv\\lib\\site-packages (from jinja2->torch->torchtext==0.5.0) (3.0.2)\n",
      "Installing collected packages: torchtext\n",
      "Successfully installed torchtext-0.5.0\n"
     ]
    },
    {
     "name": "stderr",
     "output_type": "stream",
     "text": [
      "\n",
      "[notice] A new release of pip available: 22.3.1 -> 24.3.1\n",
      "[notice] To update, run: python.exe -m pip install --upgrade pip\n"
     ]
    }
   ],
   "source": [
    "# !pip install torchtext==0.5.0"
   ]
  },
  {
   "cell_type": "code",
   "execution_count": 9,
   "metadata": {},
   "outputs": [],
   "source": [
    "import torch\n",
    "from torchtext.data.utils import get_tokenizer\n",
    "import collections\n",
    "import torchtext\n",
    "from torch.utils.data import Dataset, DataLoader\n",
    "import pandas as pd\n",
    "\n",
    "tokenizer = get_tokenizer('basic_english')"
   ]
  },
  {
   "cell_type": "code",
   "execution_count": 10,
   "metadata": {},
   "outputs": [],
   "source": [
    "counter = collections.Counter()\n",
    "for (label, line) in train_dataset:\n",
    "    counter.update(torchtext.data.utils.ngrams_iterator(tokenizer(line), ngrams=1))\n",
    "vocab = torchtext.vocab.Vocab(counter, min_freq=1)"
   ]
  },
  {
   "cell_type": "code",
   "execution_count": 11,
   "metadata": {},
   "outputs": [
    {
     "name": "stdout",
     "output_type": "stream",
     "text": [
      "Vocab size if 95131\n"
     ]
    }
   ],
   "source": [
    "vocab_size = len(vocab)\n",
    "print(f\"Vocab size if {vocab_size}\")\n",
    "\n",
    "def encode(x):\n",
    "    return [vocab.stoi[s] for s in tokenizer(x)]\n",
    "\n",
    "def decode(x):\n",
    "    return [vocab.itos[i] for i in x]"
   ]
  },
  {
   "cell_type": "code",
   "execution_count": 12,
   "metadata": {},
   "outputs": [],
   "source": [
    "def padify(b):\n",
    "    v = [encode(x[1]) for x in b]\n",
    "    l = max(map(len,v))\n",
    "    return ( # tuple of two tensors - labels and features\n",
    "        torch.LongTensor([t[0]-1 for t in b]),\n",
    "        torch.stack([torch.nn.functional.pad(torch.tensor(t),(0,l-len(t)),mode='constant',value=0) for t in v])\n",
    "    )"
   ]
  },
  {
   "cell_type": "code",
   "execution_count": 13,
   "metadata": {},
   "outputs": [
    {
     "name": "stdout",
     "output_type": "stream",
     "text": [
      "Number of parameters: 6101093\n"
     ]
    }
   ],
   "source": [
    "class RNNClassifier(torch.nn.Module):\n",
    "    def __init__(self, vocab_size, embed_dim, hidden_dim, num_class):\n",
    "        super().__init__()\n",
    "\n",
    "        self.hidden_dim = hidden_dim\n",
    "        self.embedding = torch.nn.Embedding(vocab_size, embed_dim)\n",
    "        self.rnn = torch.nn.RNN(embed_dim,hidden_dim,batch_first=True)\n",
    "        self.fc = torch.nn.Linear(hidden_dim, num_class)\n",
    "\n",
    "    def forward(self, x):\n",
    "        batch_size = x.size(0)\n",
    "        x = self.embedding(x)\n",
    "        x,h = self.rnn(x)\n",
    "        return self.fc(x.mean(dim=1))\n",
    "    \n",
    "class RNNWithAttention(nn.Module):\n",
    "    def __init__(self, vocab_size, embed_dim, hidden_dim, num_class):\n",
    "        super(RNNWithAttention, self).__init__()\n",
    "\n",
    "        self.hidden_dim = hidden_dim\n",
    "        self.embedding = nn.Embedding(vocab_size, embed_dim)  # Эмбеддинг\n",
    "        self.rnn = nn.RNN(embed_dim, hidden_dim, batch_first=True)  # Рекуррентный слой RNN\n",
    "        self.attention = nn.Linear(hidden_dim, 1)  # Слой внимания (Attention)\n",
    "        self.fc = nn.Linear(hidden_dim, num_class)  # Полносвязный слой для классификации\n",
    "        \n",
    "    def forward(self, x):\n",
    "        x = self.embedding(x)  # Применяем эмбеддинг\n",
    "        rnn_out, h = self.rnn(x)  # Проходим через RNN\n",
    "        attention_weights = torch.softmax(self.attention(rnn_out), dim=1)  # Применяем механизм внимания\n",
    "        context_vector = torch.sum(attention_weights * rnn_out, dim=1)  # Получаем контекст вектор (взвешенное суммирование)\n",
    "        output = self.fc(context_vector)  # Применяем полносвязный слой\n",
    "        \n",
    "        return output\n",
    "    \n",
    "\n",
    "class RNNClassifierWithAttention(nn.Module):\n",
    "    def __init__(self, vocab_size, embedding_dim, hidden_dim, num_class):\n",
    "        super(RNNClassifierWithAttention, self).__init__()\n",
    "        \n",
    "        self.embedding = nn.Embedding(vocab_size, embedding_dim)  # Эмбеддинг\n",
    "        self.rnn = nn.LSTM(embedding_dim, hidden_dim, batch_first=True)  # LSTM для обработки последовательностей\n",
    "        self.attention = nn.Linear(hidden_dim, 1)  # Слой внимания\n",
    "        self.fc = nn.Linear(hidden_dim, num_class)  # Полносвязный слой для классификации\n",
    "\n",
    "        \n",
    "    def forward(self, x):\n",
    "        batch_size = x.size(0)\n",
    "        \n",
    "        x = self.embedding(x)  # Эмбеддинг\n",
    "        rnn_out, (hidden, cell) = self.rnn(x)  # Проходим через LSTM\n",
    "        # Применяем внимание\n",
    "        attention_scores = torch.tanh(self.attention(rnn_out))        # [batch_size, seq_len, 1]  \n",
    "        attention_weights = torch.softmax(attention_scores, dim=1)    # [batch_size, seq_len, 1]\n",
    "        \n",
    "        # Получаем контекстный вектор, взвешивая выходы RNN\n",
    "        context_vector = torch.sum(attention_weights * rnn_out, dim=1)  # [batch_size, hidden_dim]\n",
    "        \n",
    "        # Применяем полносвязный слой для классификации\n",
    "        output = self.fc(context_vector)  # [batch_size, num_class]\n",
    "        \n",
    "        return output\n",
    "\n",
    "\n",
    "train_loader = torch.utils.data.DataLoader(train_dataset, batch_size=32, collate_fn=padify, shuffle=True)\n",
    "device = torch.device(\"cuda\" if torch.cuda.is_available() else \"cpu\")\n",
    "device\n",
    "model = RNNClassifierWithAttention(vocab_size, embedding_dim=64, hidden_dim=32, num_class=4).to(device)\n",
    "trainable_params = sum(p.numel() for p in model.parameters() if p.requires_grad)\n",
    "print(f\"Number of parameters: {trainable_params}\")"
   ]
  },
  {
   "cell_type": "markdown",
   "metadata": {},
   "source": [
    "# 6. Training"
   ]
  },
  {
   "cell_type": "code",
   "execution_count": 27,
   "metadata": {},
   "outputs": [
    {
     "name": "stderr",
     "output_type": "stream",
     "text": [
      "                                                                                          \r"
     ]
    },
    {
     "name": "stdout",
     "output_type": "stream",
     "text": [
      "Epoch [1/3], Loss: 0.3928, Accuracy: 85.71%\n"
     ]
    },
    {
     "name": "stderr",
     "output_type": "stream",
     "text": [
      "                                                                                          \r"
     ]
    },
    {
     "name": "stdout",
     "output_type": "stream",
     "text": [
      "Epoch [2/3], Loss: 0.1947, Accuracy: 93.36%\n"
     ]
    },
    {
     "name": "stderr",
     "output_type": "stream",
     "text": [
      "                                                                                           \r"
     ]
    },
    {
     "name": "stdout",
     "output_type": "stream",
     "text": [
      "Epoch [3/3], Loss: 0.1271, Accuracy: 95.64%\n",
      "Training complete.\n"
     ]
    },
    {
     "data": {
      "image/png": "[encoded data removed]",
      "text/plain": [
       "<Figure size 640x480 with 2 Axes>"
      ]
     },
     "metadata": {},
     "output_type": "display_data"
    }
   ],
   "source": [
    "# model = RNNClassifier(vocab_size, 64, 32, 4).to(device)\n",
    "# model = RNNWithAttention(vocab_size, 64, 32, 4).to(device)\n",
    "\n",
    "model = RNNClassifierWithAttention(vocab_size, 128, 256, 4).to(device)  \n",
    "\n",
    "num_epochs = 3\n",
    "batch_size = 64\n",
    "lr = 0.001\n",
    "report_freq=200\n",
    "\n",
    "criterion = nn.CrossEntropyLoss()\n",
    "optimizer = torch.optim.Adam(model.parameters(),lr=lr)\n",
    "criterion = criterion.to(device)\n",
    "\n",
    "\n",
    "\n",
    "train_losses = []\n",
    "train_accuracies = []\n",
    "\n",
    "\n",
    "def train_model(model, train_loader, criterion, optimizer, num_epochs, device):\n",
    "    model.to(device)  # Переносим модель на устройство (CPU/GPU)\n",
    "\n",
    "    for epoch in range(num_epochs):\n",
    "        model.train()  # Устанавливаем режим обучения\n",
    "        total_loss = 0\n",
    "        correct = 0\n",
    "        total = 0\n",
    "        \n",
    "        progress_bar = tqdm(train_loader, desc=f\"Epoch {epoch+1}/{num_epochs}\", leave=False)\n",
    "        \n",
    "        for labels, inputs in progress_bar:\n",
    "            inputs, labels = inputs.to(device), labels.to(device)\n",
    "            \n",
    "            optimizer.zero_grad()  # Обнуляем градиенты\n",
    "            \n",
    "            outputs = model(inputs)  # Прямой проход\n",
    "            loss = criterion(outputs, labels)  # Вычисление функции потерь\n",
    "            \n",
    "            loss.backward()  # Обратное распространение\n",
    "            optimizer.step()  # Обновление весов\n",
    "            \n",
    "            total_loss += loss.item()\n",
    "\n",
    "            # Расчет accuracy\n",
    "            _, predicted = torch.max(outputs, 1)  # Получаем предсказанные классы\n",
    "            correct += (predicted == labels).sum().item()\n",
    "            total += labels.size(0)\n",
    "\n",
    "            acc = correct / total  # Текущая точность\n",
    "            progress_bar.set_postfix(loss=loss.item(), accuracy=acc * 100)\n",
    "\n",
    "        avg_loss = total_loss / len(train_loader)\n",
    "        final_acc = correct / total * 100\n",
    "\n",
    "        train_losses.append(avg_loss)\n",
    "        train_accuracies.append(final_acc)\n",
    "\n",
    "        print(f\"Epoch [{epoch+1}/{num_epochs}], Loss: {avg_loss:.4f}, Accuracy: {final_acc:.2f}%\")\n",
    "\n",
    "    print(\"Training complete.\")\n",
    "\n",
    "\n",
    "# Запуск обучения\n",
    "train_model(model, train_loader, criterion, optimizer, num_epochs, device)\n",
    "\n",
    "from torch import save\n",
    "save(model.state_dict(), \"rnn_attention_TORCH.pth\")\n",
    "\n",
    "\n",
    "# Построение графика\n",
    "epochs = range(1, num_epochs + 1)\n",
    "fig, ax1 = plt.subplots()\n",
    "\n",
    "ax1.plot(epochs, train_losses, 'ro-', label='Loss')  # Красная линия - Loss\n",
    "ax1.set_xlabel('Epoch')\n",
    "ax1.set_ylabel('Loss', color='red')\n",
    "ax1.tick_params(axis='y', labelcolor='red')\n",
    "\n",
    "ax2 = ax1.twinx()\n",
    "ax2.plot(epochs, train_accuracies, 'bs-', label='Accuracy')  # Синяя линия - Accuracy\n",
    "ax2.set_ylabel('Accuracy', color='blue')\n",
    "ax2.tick_params(axis='y', labelcolor='blue')\n",
    "\n",
    "plt.title(\"Learning Curve (Loss & Accuracy)\")\n",
    "plt.show()"
   ]
  },
  {
   "cell_type": "markdown",
   "metadata": {},
   "source": [
    "# 7. Оценка модели"
   ]
  },
  {
   "cell_type": "code",
   "execution_count": 28,
   "metadata": {},
   "outputs": [
    {
     "name": "stderr",
     "output_type": "stream",
     "text": [
      "C:\\Users\\Alex\\AppData\\Local\\Temp\\ipykernel_1588\\1056794695.py:32: FutureWarning: You are using `torch.load` with `weights_only=False` (the current default value), which uses the default pickle module implicitly. It is possible to construct malicious pickle data which will execute arbitrary code during unpickling (See https://github.com/pytorch/pytorch/blob/main/SECURITY.md#untrusted-models for more details). In a future release, the default value for `weights_only` will be flipped to `True`. This limits the functions that could be executed during unpickling. Arbitrary objects will no longer be allowed to be loaded via this mode unless they are explicitly allowlisted by the user via `torch.serialization.add_safe_globals`. We recommend you start setting `weights_only=True` for any use case where you don't have full control of the loaded file. Please open an issue on GitHub for any issues related to this experimental feature.\n",
      "  model.load_state_dict(torch.load(\"rnn_attention_TORCH.pth\"))\n"
     ]
    },
    {
     "name": "stdout",
     "output_type": "stream",
     "text": [
      "              precision    recall  f1-score   support\n",
      "\n",
      "       World     0.9365    0.9011    0.9185      1900\n",
      "      Sports     0.9458    0.9821    0.9636      1900\n",
      "    Business     0.9011    0.8679    0.8842      1900\n",
      "    Sci/Tech     0.8740    0.9058    0.8896      1900\n",
      "\n",
      "    accuracy                         0.9142      7600\n",
      "   macro avg     0.9144    0.9142    0.9140      7600\n",
      "weighted avg     0.9144    0.9142    0.9140      7600\n",
      "\n"
     ]
    }
   ],
   "source": [
    "def test_model_with_accuracy(model, test_loader, vocab, classes, device):\n",
    "    model.eval()  # Переводим модель в режим оценки (без градиентов)\n",
    "    \n",
    "    correct = 0  # Количество правильных предсказаний\n",
    "    total = 0  # Общее количество примеров\n",
    "    with torch.no_grad():  # Не вычисляем градиенты во время тестирования\n",
    "        for batch_idx, (target, data) in enumerate(test_loader):\n",
    "            \n",
    "            # Перенос данных и меток на устройство\n",
    "            data, target = data.to(device), target.to(device)\n",
    "            \n",
    "            # Получение предсказаний\n",
    "            pred = model(data)\n",
    "            \n",
    "            # Вычисляем количество правильных предсказаний\n",
    "            _, predicted = torch.max(pred, 1)\n",
    "            total += target.size(0)\n",
    "            correct += (predicted == target).sum().item()\n",
    "\n",
    "        # Вычисление точности\n",
    "        accuracy = 100 * correct / total\n",
    "        print(f\"Accuracy of the model on the test data: {accuracy:.2f}%\")\n",
    "\n",
    "\n",
    "\n",
    "\n",
    "test_loader = torch.utils.data.DataLoader(test_dataset, batch_size=32, collate_fn=padify, shuffle=True)\n",
    "\n",
    "# Загрузка модели (определите вашу архитектуру перед загрузкой)\n",
    "model = RNNClassifierWithAttention(vocab_size, 128, 256, 4).to(device)  \n",
    "# model = RNNClassifier(vocab_size, 64, 32, 4).to(device)  # 90_75\n",
    "model.load_state_dict(torch.load(\"rnn_attention_TORCH.pth\"))\n",
    "\n",
    "# model.load_state_dict(torch.load(\"models/final/RNN + Attetion_final.pth\"))\n",
    "model.eval()  # Устанавливаем модель в режим оценки\n",
    "model.to(device)\n",
    "\n",
    "\n",
    "# Получаем прогнозы и истинные метки\n",
    "all_preds = []\n",
    "all_labels = []\n",
    "\n",
    "with torch.no_grad():\n",
    "    for batch in test_loader:\n",
    "        labels, text = batch\n",
    "        text, labels = text.to(device), labels.to(device)\n",
    "\n",
    "        # Получаем выходы модели\n",
    "        outputs = model(text)\n",
    "        predicted_classes = torch.argmax(outputs, dim=1)\n",
    "\n",
    "        all_preds.extend(predicted_classes.cpu().numpy())\n",
    "        all_labels.extend(labels.cpu().numpy())\n",
    "\n",
    "# Создаем отчет классификации\n",
    "report = classification_report(all_labels, all_preds, target_names=classes, digits=4)\n",
    "print(report)\n",
    "\n",
    "# test_model_with_accuracy(model, test_loader, vocab, classes, device)"
   ]
  },
  {
   "cell_type": "code",
   "execution_count": 29,
   "metadata": {},
   "outputs": [
    {
     "name": "stdout",
     "output_type": "stream",
     "text": [
      "              precision    recall  f1-score   support\n",
      "\n",
      "       World     0.9387    0.9026    0.9203      1900\n",
      "      Sports     0.9459    0.9837    0.9644      1900\n",
      "    Business     0.9027    0.8695    0.8858      1900\n",
      "    Sci/Tech     0.8770    0.9079    0.8922      1900\n",
      "\n",
      "    accuracy                         0.9159      7600\n",
      "   macro avg     0.9161    0.9159    0.9157      7600\n",
      "weighted avg     0.9161    0.9159    0.9157      7600\n",
      "\n"
     ]
    },
    {
     "data": {
      "image/png": "[encoded data removed]",
      "text/plain": [
       "<Figure size 800x600 with 2 Axes>"
      ]
     },
     "metadata": {},
     "output_type": "display_data"
    }
   ],
   "source": [
    "from sklearn.metrics import confusion_matrix, classification_report\n",
    "import seaborn as sns\n",
    "import matplotlib.pyplot as plt\n",
    "\n",
    "# Получаем прогнозы и истинные метки\n",
    "all_preds = []\n",
    "all_labels = []\n",
    "\n",
    "with torch.no_grad():\n",
    "    for batch in test_loader:\n",
    "        labels, text = batch\n",
    "        text, labels = text.to(device), labels.to(device)\n",
    "\n",
    "        # Получаем выходы модели\n",
    "        outputs = model(text)\n",
    "        predicted_classes = torch.argmax(outputs, dim=1)\n",
    "\n",
    "        all_preds.extend(predicted_classes.cpu().numpy())\n",
    "        all_labels.extend(labels.cpu().numpy())\n",
    "\n",
    "# Создаем отчет классификации\n",
    "report = classification_report(all_labels, all_preds, target_names=classes, digits=4)\n",
    "print(report)\n",
    "\n",
    "# Создаем и отображаем матрицу ошибок\n",
    "cm = confusion_matrix(all_labels, all_preds)\n",
    "fig, ax = plt.subplots(figsize=(8, 6))\n",
    "sns.heatmap(cm, annot=True, fmt='d', cmap='Blues', xticklabels=classes, yticklabels=classes)\n",
    "plt.xlabel('Predicted Label')\n",
    "plt.ylabel('True Label')\n",
    "plt.title('Confusion Matrix')\n",
    "plt.show()\n"
   ]
  },
  {
   "cell_type": "markdown",
   "metadata": {},
   "source": [
    "odel.load_state_dict(torch.load(\"rnn_attention_TORCH.pth\"))\n",
    "              precision    recall  f1-score   support\n",
    "\n",
    "       World     0.9259    0.9279    0.9269      1900\n",
    "      Sports     0.9647    0.9795    0.9721      1900\n",
    "    Business     0.8961    0.8758    0.8858      1900\n",
    "    Sci/Tech     0.8969    0.9016    0.8992      1900\n",
    "\n",
    "    accuracy                         0.9212      7600\n",
    "   macro avg     0.9209    0.9212    0.9210      7600\n",
    "weighted avg     0.9209    0.9212    0.9210      7600"
   ]
  },
  {
   "cell_type": "code",
   "execution_count": null,
   "metadata": {},
   "outputs": [],
   "source": [
    "import itertools\n",
    "import pandas as pd\n",
    "import torch\n",
    "import torch.nn as nn\n",
    "import torch.optim as optim\n",
    "from torch.utils.data import DataLoader\n",
    "import time\n",
    "from tqdm import tqdm  # Добавляем tqdm для прогресса\n",
    "\n",
    "# Гиперпараметры для подбора\n",
    "param_grid = {\n",
    "    \"embed_size\": [64, 128],\n",
    "    \"hidden_size\": [128, 256],\n",
    "    \"rnn_type\": [\"GRU\", \"LSTM\"],\n",
    "    \"num_layers\": [1, 2],  \n",
    "    \"dropout\": [0.0, 0.2],  \n",
    "    \"learning_rate\": [0.001, 0.0005],\n",
    "    \"batch_size\": [32, 64],\n",
    "    \"optimizer\": [\"Adam\", \"SGD\"],  \n",
    "    \"activation\": [\"ReLU\", \"Tanh\"]\n",
    "}\n",
    "\n",
    "# Генерируем все комбинации параметров\n",
    "param_combinations = list(itertools.product(*param_grid.values()))\n",
    "\n",
    "# Список для сохранения результатов\n",
    "results = []\n",
    "\n",
    "# Функция создания модели\n",
    "def create_model(vocab_size, embed_size, hidden_size, rnn_type, num_layers, dropout, activation, num_classes=4):\n",
    "    class AttentionRNN(nn.Module):\n",
    "        def __init__(self):\n",
    "            super(AttentionRNN, self).__init__()\n",
    "            self.embedding = nn.Embedding(vocab_size, embed_size)\n",
    "            rnn_class = nn.GRU if rnn_type == \"GRU\" else nn.LSTM\n",
    "            self.rnn = rnn_class(embed_size, hidden_size, num_layers=num_layers, batch_first=True, dropout=dropout if num_layers > 1 else 0)\n",
    "            self.attention = nn.Linear(hidden_size, 1)\n",
    "            self.fc = nn.Linear(hidden_size, num_classes)\n",
    "            self.activation = nn.ReLU() if activation == \"ReLU\" else nn.Tanh()\n",
    "\n",
    "        def forward(self, x):\n",
    "            embed = self.embedding(x)\n",
    "            rnn_out, _ = self.rnn(embed)\n",
    "            attn_weights = torch.softmax(self.attention(rnn_out), dim=1)\n",
    "            attn_out = torch.sum(rnn_out * attn_weights, dim=1)\n",
    "            return self.fc(self.activation(attn_out))\n",
    "\n",
    "    return AttentionRNN()\n",
    "\n",
    "# Запуск обучения для всех комбинаций\n",
    "device = torch.device(\"cuda\" if torch.cuda.is_available() else \"cpu\")\n",
    "\n",
    "for params in tqdm(param_combinations, desc=\"Гиперпараметрический поиск\"):\n",
    "    embed_size, hidden_size, rnn_type, num_layers, dropout, learning_rate, batch_size, optimizer_name, activation = params\n",
    "    \n",
    "    # Создание DataLoader с новым batch_size\n",
    "    train_loader = DataLoader(train_dataset, batch_size=batch_size, shuffle=True)\n",
    "    test_loader = DataLoader(test_dataset, batch_size=batch_size)\n",
    "\n",
    "    # Создание модели\n",
    "    model = create_model(len(vocab) + 1, embed_size, hidden_size, rnn_type, num_layers, dropout, activation).to(device)\n",
    "\n",
    "    # Выбор оптимизатора\n",
    "    optimizer = {\n",
    "        \"Adam\": optim.Adam(model.parameters(), lr=learning_rate),\n",
    "        \"SGD\": optim.SGD(model.parameters(), lr=learning_rate, momentum=0.9)\n",
    "    }[optimizer_name]\n",
    "\n",
    "    criterion = nn.CrossEntropyLoss()\n",
    "\n",
    "    # Обучение\n",
    "    start_time = time.time()\n",
    "    for epoch in tqdm(range(5), desc=\"Обучение\", leave=False):  # Добавляем tqdm для отслеживания эпох\n",
    "        model.train()\n",
    "        total_loss = 0\n",
    "        for X_batch, Y_batch in tqdm(train_loader, desc=\"Batch обработка\", leave=False):\n",
    "            X_batch, Y_batch = X_batch.to(device), Y_batch.to(device)\n",
    "            optimizer.zero_grad()\n",
    "            outputs = model(X_batch)\n",
    "            loss = criterion(outputs, Y_batch)\n",
    "            loss.backward()\n",
    "            optimizer.step()\n",
    "            total_loss += loss.item()\n",
    "    \n",
    "    # Оценка модели\n",
    "    model.eval()\n",
    "    correct = 0\n",
    "    total = 0\n",
    "    with torch.no_grad():\n",
    "        for X_batch, Y_batch in test_loader:\n",
    "            X_batch, Y_batch = X_batch.to(device), Y_batch.to(device)\n",
    "            outputs = model(X_batch)\n",
    "            predictions = torch.argmax(outputs, dim=1)\n",
    "            correct += (predictions == Y_batch).sum().item()\n",
    "            total += Y_batch.size(0)\n",
    "\n",
    "    accuracy = correct / total * 100\n",
    "    train_time = time.time() - start_time\n",
    "\n",
    "    # Сохранение результатов\n",
    "    result_entry = {\n",
    "        \"embed_size\": embed_size,\n",
    "        \"hidden_size\": hidden_size,\n",
    "        \"rnn_type\": rnn_type,\n",
    "        \"num_layers\": num_layers,\n",
    "        \"dropout\": dropout,\n",
    "        \"learning_rate\": learning_rate,\n",
    "        \"batch_size\": batch_size,\n",
    "        \"optimizer\": optimizer_name,\n",
    "        \"activation\": activation,\n",
    "        \"accuracy\": accuracy,\n",
    "        \"train_time_sec\": train_time\n",
    "    }\n",
    "    results.append(result_entry)\n",
    "\n",
    "    print(f\"Params: {params}, Accuracy: {accuracy:.2f}%, Time: {train_time:.2f}s\")\n",
    "\n",
    "# **Сохранение результатов в CSV**\n",
    "results_df = pd.DataFrame(results)\n",
    "results_df.to_csv(\"results.csv\", index=False)\n",
    "\n",
    "# **Сохранение результатов в TXT**\n",
    "with open(\"results.txt\", \"w\") as f:\n",
    "    for result in results:\n",
    "        f.write(str(result) + \"\\n\")\n",
    "\n",
    "print(\"Готово! Результаты сохранены в results.csv и results.txt\")"
   ]
  }
 ],
 "metadata": {
  "kernelspec": {
   "display_name": "venv",
   "language": "python",
   "name": "python3"
  },
  "language_info": {
   "codemirror_mode": {
    "name": "ipython",
    "version": 3
   },
   "file_extension": ".py",
   "mimetype": "text/x-python",
   "name": "python",
   "nbconvert_exporter": "python",
   "pygments_lexer": "ipython3",
   "version": "3.10.9"
  }
 },
 "nbformat": 4,
 "nbformat_minor": 2
}
